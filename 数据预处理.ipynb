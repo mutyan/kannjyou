{
 "cells": [
  {
   "cell_type": "markdown",
   "id": "1ad2dfa9",
   "metadata": {},
   "source": [
    "# 情感分类部分"
   ]
  },
  {
   "cell_type": "code",
   "execution_count": 1,
   "id": "ca2e9d3a",
   "metadata": {},
   "outputs": [
    {
     "name": "stderr",
     "output_type": "stream",
     "text": [
      "Hardware accelerator e.g. GPU is available in the environment, but no `device` argument is passed to the `Pipeline` object. Model will be on CPU.\n",
      "10it [00:02,  4.34it/s]\n"
     ]
    }
   ],
   "source": [
    "# 安装必要的库\n",
    "# !pip install mecab-python3\n",
    "# !pip install transformers\n",
    "# !pip install pandas\n",
    "import MeCab\n",
    "import pandas as pd\n",
    "from transformers import pipeline\n",
    "from tqdm import tqdm\n",
    "\n",
    "def main1(text1):\n",
    "    def preprocess_text(text):\n",
    "        return mecab.parse(text).strip()\n",
    "    # 预处理文本\n",
    "    preprocessed_text = preprocess_text(text1)\n",
    "\n",
    "    # 执行情感分析\n",
    "    result = sentiment_analyzer(preprocessed_text)\n",
    "    label = result[0]['label']\n",
    "    score = result[0]['score']\n",
    "    return label,score\n",
    "\n",
    "\n",
    "if __name__ == '__main__':\n",
    "    # 初始化 MeCab 进行分词\n",
    "    mecab = MeCab.Tagger(\"-Owakati\")\n",
    "    # 使用 transformers 中的预训练情感分析模型\n",
    "    sentiment_analyzer = pipeline(\"sentiment-analysis\", model=\"cardiffnlp/twitter-roberta-base-sentiment\")\n",
    "    df = pd.read_excel('Twitter_data1.xlsx')\n",
    "    data = pd.DataFrame()\n",
    "    data['推文内容'] = ['推文内容']\n",
    "    data['关键词'] = ['关键词']\n",
    "    data['发布时间'] = ['发布时间']\n",
    "    data['label'] =['label']\n",
    "    data['score'] = ['score']\n",
    "    data.to_csv('data.csv', encoding='utf-8-sig', index=False, mode='w',header=False)\n",
    "    for d1,d2,d3 in tqdm(zip(df['推文内容'],df['关键词'],df['发布时间'])):\n",
    "        text = d1\n",
    "        label,score = main1(text)\n",
    "        data = pd.DataFrame()\n",
    "        data['推文内容'] = [text]\n",
    "        data['关键词'] = [d2]\n",
    "        data['发布时间'] = [d3]\n",
    "        data['label'] = [label]\n",
    "        data['score'] = [score]\n",
    "        data.to_csv('data.csv',encoding='utf-8-sig',index=False,mode='a+',header=False)"
   ]
  },
  {
   "cell_type": "code",
   "execution_count": 11,
   "id": "fb5ecc13",
   "metadata": {},
   "outputs": [
    {
     "name": "stdout",
     "output_type": "stream",
     "text": [
      "0     2024-05-31\n",
      "1     2024-05-30\n",
      "2     2024-05-29\n",
      "3     2024-05-28\n",
      "4     2024-05-27\n",
      "         ...    \n",
      "241   2023-06-06\n",
      "242   2023-06-05\n",
      "243   2023-06-02\n",
      "244   2023-06-01\n",
      "245   2023-05-31\n",
      "Name: 日付, Length: 246, dtype: datetime64[ns]\n"
     ]
    }
   ],
   "source": [
    "import pandas as pd\n",
    "\n",
    "df = pd.read_excel('丰田股价20230531.xlsx')\n",
    "print(df['日付'])\n",
    "# 计算环比（当前值与前一个值的差异）\n",
    "df['环比'] = df['終値'].pct_change()\n",
    "\n",
    "# 判断环比结果，正数为1，负数或0为0\n",
    "df['结果'] = df['环比'].apply(lambda x: 1 if x > 0 else 0)\n",
    "df['日付'] = pd.to_datetime(df['日付'])\n",
    "df.to_excel('股票.xlsx')"
   ]
  },
  {
   "cell_type": "code",
   "execution_count": 12,
   "id": "11fc2d14",
   "metadata": {},
   "outputs": [
    {
     "name": "stderr",
     "output_type": "stream",
     "text": [
      "C:\\Users\\Administrator\\AppData\\Local\\Temp\\ipykernel_2668\\3968472636.py:35: DeprecationWarning: DataFrameGroupBy.apply operated on the grouping columns. This behavior is deprecated, and in a future version of pandas the grouping columns will be excluded from the operation. Either pass `include_groups=False` to exclude the groupings or explicitly select the grouping columns after groupby to silence this warning.\n",
      "  df11 = df1.groupby(by=['时间']).apply(df_process)\n"
     ]
    }
   ],
   "source": [
    "import pandas as pd\n",
    "import numpy as np\n",
    "\n",
    "data1 = pd.read_csv('data1.csv')\n",
    "data2 = pd.read_csv('data2.csv')\n",
    "\n",
    "df = pd.concat([data1,data2],axis=0)\n",
    "df = df.drop_duplicates(subset=['推文内容'])\n",
    "\n",
    "def pandaun(s):\n",
    "    s1 = float(s)\n",
    "    if s1 >= 0.7:\n",
    "        return s1\n",
    "    else:\n",
    "        return np.NAN\n",
    "\n",
    "\n",
    "\n",
    "def time_process(x):\n",
    "    x1 = str(x).split(\" \")\n",
    "    return x1[0]\n",
    "\n",
    "\n",
    "df['时间'] = df['发布时间'].apply(time_process)\n",
    "df['发帖数量'] = 1\n",
    "df['准确率'] = df['score'].apply(pandaun)\n",
    "df1 = df.dropna(subset=['准确率'],axis=0)\n",
    "def df_process(data):\n",
    "    data1 = data['label'].value_counts()\n",
    "    d = {}\n",
    "    for i,j in zip(data1.index,data1.values):\n",
    "        d[i] = j\n",
    "    return d\n",
    "\n",
    "df11 = df1.groupby(by=['时间']).apply(df_process)\n",
    "df3 = df.groupby(by=['时间']).agg({'发帖数量':'sum'})\n",
    "df11 = df11.reset_index()\n",
    "df11.columns = ['时间','类别']\n",
    "df11 = df11.sort_index()\n",
    "\n",
    "df4 = df3.reset_index()\n",
    "df4.columns = ['时间','发帖数量']\n",
    "df4 = df4.sort_index()\n",
    "\n",
    "df5 = pd.merge(df11,df4,on='时间')\n",
    "\n",
    "df2 = df5\n",
    "\n",
    "\n",
    "list_0 = []\n",
    "list_1 = []\n",
    "list_2 = []\n",
    "for d in df2['类别']:\n",
    "    try:\n",
    "        LABEL_0 = d['LABEL_0']\n",
    "    except:\n",
    "        LABEL_0 = 0\n",
    "    try:\n",
    "        LABEL_1 = d['LABEL_1']\n",
    "    except:\n",
    "        LABEL_1 = 0\n",
    "    try:\n",
    "        LABEL_2 = d['LABEL_2']\n",
    "    except:\n",
    "        LABEL_2 = 0\n",
    "    list_0.append(LABEL_0)\n",
    "    list_1.append(LABEL_1)\n",
    "    list_2.append(LABEL_2)\n",
    "\n",
    "\n",
    "df2['消极'] = list_0\n",
    "df2['中立'] = list_1\n",
    "df2['积极'] = list_2\n",
    "df2 = df2.drop(['类别'],axis=1)\n",
    "data = pd.read_excel('股票.xlsx')\n",
    "df2['时间'] = pd.to_datetime(df2['时间'])\n",
    "data['时间'] = pd.to_datetime(data['日付'])\n",
    "data1 = pd.merge(df2,data,on='时间',how='right')\n",
    "data1 = data1.dropna(how='any',axis=0)\n",
    "\n",
    "data1.to_excel('情感分类数据.xlsx',index=False)"
   ]
  },
  {
   "cell_type": "code",
   "execution_count": null,
   "id": "ee8fddc6",
   "metadata": {},
   "outputs": [],
   "source": []
  }
 ],
 "metadata": {
  "kernelspec": {
   "display_name": "Python 3 (ipykernel)",
   "language": "python",
   "name": "python3"
  },
  "language_info": {
   "codemirror_mode": {
    "name": "ipython",
    "version": 3
   },
   "file_extension": ".py",
   "mimetype": "text/x-python",
   "name": "python",
   "nbconvert_exporter": "python",
   "pygments_lexer": "ipython3",
   "version": "3.12.3"
  }
 },
 "nbformat": 4,
 "nbformat_minor": 5
}
